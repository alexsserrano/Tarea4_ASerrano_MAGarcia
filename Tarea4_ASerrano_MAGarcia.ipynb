{
 "cells": [
  {
   "cell_type": "markdown",
   "metadata": {},
   "source": [
    "<img style=\"float: left; margin: 30px 15px 15px 15px;\" src=\"https://upload.wikimedia.org/wikipedia/commons/d/db/Logo_ITESO_normal.jpg\" width=\"150\" height=\"250\" /> \n",
    "    \n",
    "    \n",
    "### <font color='navy'> Simulación de procesos financieros. \n",
    "\n",
    "**Nombres:** Alejandro Serrano y Mario Alberto Garcia Roman.\n",
    "\n",
    "**Fecha:** 4 de septiembre del 2023.\n",
    "\n",
    "**Expediente** : if716821 y if740322.\n",
    "**Profesor:** Oscar David Jaramillo Zuluaga.\n",
    "    \n",
    "**Link Github**: [Link con el enlace del repositorio del creador del proyecto](https://github.com/alexsserrano/Tarea4_ASerrano_MAGarcia)\n",
    "\n",
    "# Tarea 4: Clase 8"
   ]
  },
  {
   "cell_type": "markdown",
   "metadata": {},
   "source": [
    "## Enunciado de tarea (Transcibirlo)\n",
    "> Descripción de la tarea"
   ]
  },
  {
   "cell_type": "markdown",
   "metadata": {},
   "source": [
    "### Ejercicio 1:\n",
    "\n",
    "> 1. Como ejemplo simple de una simulación de Monte Carlo, considere calcular la probabilidad de una suma particular del lanzamiento de tres dados (cada dado tiene valores del uno al seis). Además cada dado tiene las siguientes carácterísticas: el primer dado no está cargado (distribución uniforme todos son equiprobables); el segundo y tercer dado están cargados basados en una distribución binomial con parámetros (`n=5, p=0.5` y `n=5, p=0.2`). Calcule la probabilidad de que la suma resultante sea 7, 14 o 18. "
   ]
  },
  {
   "cell_type": "markdown",
   "metadata": {},
   "source": [
    "**Código de solución estudiante 1**"
   ]
  },
  {
   "cell_type": "code",
   "execution_count": 18,
   "metadata": {},
   "outputs": [
    {
     "name": "stdout",
     "output_type": "stream",
     "text": [
      "[0.1617369, 0.0007567, 0.0]\n"
     ]
    }
   ],
   "source": [
    "import numpy as np\n",
    "\n",
    "# Número de simulaciones\n",
    "N = 10000000\n",
    "\n",
    "# Función para obtener muestras de un dado cargado basado en una distribución binomial\n",
    "def get_samples(n, p, size):\n",
    "    probs = [np.math.comb(n, k) * (p**k) * ((1-p)**(n-k)) for k in range(1, 7)]\n",
    "    probs /= np.sum(probs)\n",
    "    return np.random.choice(range(1, 7), p=probs, size=size)\n",
    "\n",
    "# Lanzar los dados\n",
    "dado1 = np.random.randint(1, 7, N)\n",
    "dado2 = get_samples(5, 0.5, N)\n",
    "dado3 = get_samples(5, 0.2, N)\n",
    "\n",
    "# Calcular la suma de los tres dados de forma vectorizada\n",
    "suma = dado1 + dado2 + dado3\n",
    "\n",
    "# Calcular las probabilidades para las sumas objetivo\n",
    "sumas_objetivo = [7, 14, 18]\n",
    "probabilidades = [np.mean(suma == s) for s in sumas_objetivo]\n",
    "\n",
    "print(probabilidades)\n",
    "\n"
   ]
  },
  {
   "cell_type": "markdown",
   "metadata": {},
   "source": [
    "**Código de solución estudiante 2**"
   ]
  },
  {
   "cell_type": "code",
   "execution_count": 2,
   "metadata": {},
   "outputs": [],
   "source": [
    "# Código de solución estudiante 2\n"
   ]
  },
  {
   "cell_type": "markdown",
   "metadata": {},
   "source": [
    "### Ejercicio 2: Ejercicio de aplicación- Cafetería Central\n",
    " \n",
    "> 2. Premisas para la simulación:\n",
    ">- Negocio de alimentos que vende bebidas y alimentos.\n",
    ">- Negocio dentro del ITESO.\n",
    ">- Negocio en cafetería central.\n",
    ">- Tipo de clientes (hombres y mujeres).\n",
    ">- Rentabilidad del 60%.\n",
    "\n",
    "#### Objetivo\n",
    "Realizar una simulación estimado el tiempo medio que se tardaran los clientes en ser atendidos entre el horario de 6:30 a 1 pm. Además saber el consumo. \n",
    "**Analizar supuestos y limitantes**"
   ]
  },
  {
   "cell_type": "markdown",
   "metadata": {},
   "source": [
    "#### Supuestos en simulación\n",
    "Clasificación de clientes: \n",
    "- Mujer  = 1 $\\longrightarrow$ aleatorio < 0.5\n",
    "- Hombre = 0 $\\longrightarrow$ aleatorio $\\geq$ 0.5.\n",
    "\n",
    "Condiciones iniciales:\n",
    "- Todas las distrubuciones de probabilidad se supondrán uniformes.\n",
    "- Tiempo de simulación: 6:30 am - 1:30pm $\\longrightarrow$ T = 7 horas = 25200 seg.\n",
    "- Tiempo de llegada hasta ser atendido: Min=5seg, Max=30seg.\n",
    "- Tiempo que tardan los clientes en ser atendidos:\n",
    "    - Mujer: Min = 1 min= 60seg, Max = 5 min = 300 seg\n",
    "    - Hombre: Min = 40 seg, Max = 2 min= 120 seg\n",
    "- Consumo según el tipo de cliente:\n",
    "    - Mujer: Min = 30 pesos, Max = 100 pesos\n",
    "    - Hombre: Min = 20 pesos, Max = 80 pesos\n",
    "\n",
    "Responder las siguientes preguntas basados en los datos del problema:\n",
    "1. ¿Cuáles fueron los gastos de los hombres y las mujeres en 5 días de trabajo?.\n",
    "2. ¿Cuál fue el consumo promedio de los hombres y mujeres?\n",
    "3. ¿Cuál fue el número de personas atendidas por día?\n",
    "4. ¿Cuál fue el tiempo de atención promedio?\n",
    "5. ¿Cuánto fue la ganancia promedio de la cafetería en 5 días de trabajo y su respectiva rentabilidad?"
   ]
  },
  {
   "cell_type": "code",
   "execution_count": 19,
   "metadata": {},
   "outputs": [],
   "source": [
    "################## Datos del problema\n",
    "d = 5\n",
    "T =25200\n",
    "T_at_min = 5; T_at_max = 30\n",
    "T_mujer_min =60; T_mujer_max = 300\n",
    "T_hombre_min = 40; T_hombre_max = 120\n",
    "C_mujer_min = 30; C_mujer_max = 100\n",
    "C_hombre_min = 20; C_hombre_max = 80\n"
   ]
  },
  {
   "cell_type": "markdown",
   "metadata": {},
   "source": [
    "**Código de solución estudiante 1**"
   ]
  },
  {
   "cell_type": "code",
   "execution_count": 20,
   "metadata": {},
   "outputs": [
    {
     "name": "stdout",
     "output_type": "stream",
     "text": [
      "Gastos hombres 5 días: $101984.90\n",
      "Gastos mujeres 5 días: $140501.91\n",
      "Consumo promedio hombres: $24.28\n",
      "Consumo promedio mujeres: $33.45\n",
      "Personas atendidas por día: 840.0\n",
      "Tiempo promedio de atención: 147.35 segundos\n",
      "Ganancia promedio 5 días: $48497.36\n",
      "Rentabilidad: $29098.42\n"
     ]
    }
   ],
   "source": [
    "\n",
    "def simular_dia_vectorizado():\n",
    "    tiempos = np.random.randint(T_at_min, T_at_max, size=int(T/T_at_max))\n",
    "    clientes = np.random.rand(tiempos.size)\n",
    "    es_mujer = clientes < 0.5\n",
    "\n",
    "    tiempos_atencion_mujeres = np.random.randint(T_mujer_min, T_mujer_max, es_mujer.sum())\n",
    "    tiempos_atencion_hombres = np.random.randint(T_hombre_min, T_hombre_max, (es_mujer == False).sum())\n",
    "\n",
    "    gastos_mujeres = np.random.uniform(C_mujer_min, C_mujer_max, es_mujer.sum())\n",
    "    gastos_hombres = np.random.uniform(C_hombre_min, C_hombre_max, (es_mujer == False).sum())\n",
    "\n",
    "    tiempos[es_mujer] += tiempos_atencion_mujeres\n",
    "    tiempos[~es_mujer] += tiempos_atencion_hombres\n",
    "\n",
    "    return gastos_hombres.sum(), gastos_mujeres.sum(), tiempos, tiempos.size\n",
    "\n",
    "# Simulación de 5 días usando comprensión de listas\n",
    "resultados = [simular_dia_vectorizado() for _ in range(d)]\n",
    "\n",
    "# Extracción de resultados\n",
    "gastos_hombres = [res[0] for res in resultados]\n",
    "gastos_mujeres = [res[1] for res in resultados]\n",
    "tiempos_atencion = [tiempo for res in resultados for tiempo in res[2]]\n",
    "clientes_atendidos = sum(res[3] for res in resultados)\n",
    "\n",
    "# Cálculo de métricas\n",
    "gasto_total_hombres = sum(gastos_hombres)\n",
    "gasto_total_mujeres = sum(gastos_mujeres)\n",
    "consumo_promedio_hombres = gasto_total_hombres / clientes_atendidos\n",
    "consumo_promedio_mujeres = gasto_total_mujeres / clientes_atendidos\n",
    "personas_atendidas_dia = clientes_atendidos / d\n",
    "tiempo_promedio_atencion = np.mean(tiempos_atencion)\n",
    "ganancia_promedio = (gasto_total_hombres + gasto_total_mujeres) / d\n",
    "rentabilidad = ganancia_promedio * 0.6\n",
    "\n",
    "print(f\"Gastos hombres 5 días: ${gasto_total_hombres:.2f}\")\n",
    "print(f\"Gastos mujeres 5 días: ${gasto_total_mujeres:.2f}\")\n",
    "print(f\"Consumo promedio hombres: ${consumo_promedio_hombres:.2f}\")\n",
    "print(f\"Consumo promedio mujeres: ${consumo_promedio_mujeres:.2f}\")\n",
    "print(f\"Personas atendidas por día: {personas_atendidas_dia}\")\n",
    "print(f\"Tiempo promedio de atención: {tiempo_promedio_atencion:.2f} segundos\")\n",
    "print(f\"Ganancia promedio 5 días: ${ganancia_promedio:.2f}\")\n",
    "print(f\"Rentabilidad: ${rentabilidad:.2f}\")\n"
   ]
  },
  {
   "cell_type": "markdown",
   "metadata": {},
   "source": [
    "**Código de solución estudiante 2**"
   ]
  },
  {
   "cell_type": "code",
   "execution_count": null,
   "metadata": {},
   "outputs": [],
   "source": []
  }
 ],
 "metadata": {
  "kernelspec": {
   "display_name": "Python 3 (ipykernel)",
   "language": "python",
   "name": "python3"
  },
  "language_info": {
   "codemirror_mode": {
    "name": "ipython",
    "version": 3
   },
   "file_extension": ".py",
   "mimetype": "text/x-python",
   "name": "python",
   "nbconvert_exporter": "python",
   "pygments_lexer": "ipython3",
   "version": "3.9.12"
  }
 },
 "nbformat": 4,
 "nbformat_minor": 2
}
